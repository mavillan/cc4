{
 "metadata": {
  "name": ""
 },
 "nbformat": 3,
 "nbformat_minor": 0,
 "worksheets": [
  {
   "cells": [
    {
     "cell_type": "code",
     "collapsed": false,
     "input": [
      "%matplotlib inline\n",
      "import numpy as np\n",
      "import matplotlib.pyplot as plt\n",
      "from scipy.integrate import odeint"
     ],
     "language": "python",
     "metadata": {},
     "outputs": [],
     "prompt_number": 5
    },
    {
     "cell_type": "markdown",
     "metadata": {},
     "source": [
      "$$\\frac{\\gamma _u(t) \\epsilon _u(t){}^2 u\\left(\\xi _h(t),t\\right)+g \\gamma _h(t) \\epsilon _h(t){}^2}{\\gamma _u(t) \\epsilon _u(t){}^2}$$"
     ]
    },
    {
     "cell_type": "markdown",
     "metadata": {},
     "source": [
      "$$\\frac{\\gamma _h(t) \\epsilon _h(t){}^2 u\\left(\\xi _h(t),t\\right)+\\gamma _u(t) \\epsilon _u(t){}^2 h\\left(\\xi _h(t),t\\right)}{\\gamma _h(t) \\epsilon _h(t){}^2}$$"
     ]
    },
    {
     "cell_type": "code",
     "collapsed": false,
     "input": [
      "def u(x,t):\n",
      "    return x*t\n",
      "\n",
      "def h(x,t):\n",
      "    return x+t"
     ],
     "language": "python",
     "metadata": {},
     "outputs": [],
     "prompt_number": 3
    },
    {
     "cell_type": "code",
     "collapsed": false,
     "input": [
      "def F(gamma_u, xi_u, eps_u, gamma_h, xi_h, eps_h,t):\n",
      "    f1 = (gamma_u*eps_u**2*u(xi_h,t) + 10*gamma_h*eps_h**2)/(gamma_u*eps_u**2)\n",
      "    f2 = (gamma_h*eps_h**2*u(xi_h,t) + gamma_u*eps_u**2*h(xi_h,t))/(gamma_h*eps_h**2)\n",
      "    return np.array([f1,f2])\n",
      "\n",
      "def efe(x,t):\n",
      "    return F(x[0],x[1],x[2],x[3],x[4],x[5],t)"
     ],
     "language": "python",
     "metadata": {},
     "outputs": [],
     "prompt_number": 9
    },
    {
     "cell_type": "code",
     "collapsed": false,
     "input": [
      "t = np.linspace(0.,1.,1000)\n",
      "v = np.ones(7)\n",
      "v /= 2\n",
      "\n",
      "result = odeint(efe, v, t)"
     ],
     "language": "python",
     "metadata": {},
     "outputs": [
      {
       "output_type": "stream",
       "stream": "stdout",
       "text": [
        "Excess work done on this call (perhaps wrong Dfun type).\n",
        "Run with full_output = 1 to get quantitative information.\n"
       ]
      }
     ],
     "prompt_number": 24
    },
    {
     "cell_type": "code",
     "collapsed": false,
     "input": [
      "plt.plot(result)\n",
      "plt.show()"
     ],
     "language": "python",
     "metadata": {},
     "outputs": [],
     "prompt_number": 25
    },
    {
     "cell_type": "code",
     "collapsed": false,
     "input": [],
     "language": "python",
     "metadata": {},
     "outputs": []
    }
   ],
   "metadata": {}
  }
 ]
}